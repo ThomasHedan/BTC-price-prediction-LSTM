{
 "cells": [
  {
   "cell_type": "code",
   "execution_count": 1,
   "id": "f41add4a",
   "metadata": {},
   "outputs": [
    {
     "name": "stdout",
     "output_type": "stream",
     "text": [
      "Success\n"
     ]
    }
   ],
   "source": [
    "import numpy as np\n",
    "import math\n",
    "import matplotlib.pyplot as plt\n",
    "import pandas as pd\n",
    "import datetime\n",
    "print('Success')"
   ]
  },
  {
   "cell_type": "code",
   "execution_count": 2,
   "id": "cd4c1de2",
   "metadata": {},
   "outputs": [
    {
     "name": "stdout",
     "output_type": "stream",
     "text": [
      "Success\n"
     ]
    }
   ],
   "source": [
    "from sklearn.metrics import mean_squared_error\n",
    "from sklearn.model_selection import train_test_split\n",
    "import statsmodels.tsa.arima.model as smt\n",
    "import pmdarima as pm\n",
    "from pmdarima import model_selection\n",
    "print('Success')"
   ]
  },
  {
   "cell_type": "code",
   "execution_count": 3,
   "id": "97dddad1",
   "metadata": {},
   "outputs": [
    {
     "name": "stdout",
     "output_type": "stream",
     "text": [
      "Success\n"
     ]
    }
   ],
   "source": [
    "from binance import Client\n",
    "print('Success')"
   ]
  },
  {
   "cell_type": "markdown",
   "id": "782e66c0",
   "metadata": {},
   "source": [
    "### 1- get data :"
   ]
  },
  {
   "cell_type": "code",
   "execution_count": 4,
   "id": "2c657a38",
   "metadata": {},
   "outputs": [],
   "source": [
    "def get_data(sym,init_date,timeframe):\n",
    "    klinesT = Client().get_historical_klines(sym, timeframe, init_date)\n",
    "    df = pd.DataFrame(klinesT, columns =  ['timestamp', 'open', 'high', 'low', 'close', 'volume', 'close_time', 'quote_av', 'trades', 'tb_base_av', 'tb_quote_av', 'ignore' ])\n",
    "    df['date']=df['timestamp'].apply(lambda x: datetime.datetime.fromtimestamp(x/1000))\n",
    "    df.drop(['open','high','low','volume','quote_av','trades','tb_base_av','tb_quote_av','ignore','close_time','timestamp'],inplace =True,axis=1)\n",
    "    df['close'] = df['close'].astype(float)\n",
    "    df.set_index('date',inplace=True)\n",
    "    return df\n"
   ]
  },
  {
   "cell_type": "code",
   "execution_count": 5,
   "id": "a1e9f33e",
   "metadata": {},
   "outputs": [],
   "source": [
    "sym,init_date,timeframe = \"BTCUSDT\",\"01 January 2020\",Client.KLINE_INTERVAL_4HOUR\n",
    "df = get_data(sym,init_date,timeframe)"
   ]
  },
  {
   "cell_type": "code",
   "execution_count": 6,
   "id": "43bbf5ad",
   "metadata": {},
   "outputs": [
    {
     "data": {
      "text/html": [
       "<div>\n",
       "<style scoped>\n",
       "    .dataframe tbody tr th:only-of-type {\n",
       "        vertical-align: middle;\n",
       "    }\n",
       "\n",
       "    .dataframe tbody tr th {\n",
       "        vertical-align: top;\n",
       "    }\n",
       "\n",
       "    .dataframe thead th {\n",
       "        text-align: right;\n",
       "    }\n",
       "</style>\n",
       "<table border=\"1\" class=\"dataframe\">\n",
       "  <thead>\n",
       "    <tr style=\"text-align: right;\">\n",
       "      <th></th>\n",
       "      <th>close</th>\n",
       "    </tr>\n",
       "    <tr>\n",
       "      <th>date</th>\n",
       "      <th></th>\n",
       "    </tr>\n",
       "  </thead>\n",
       "  <tbody>\n",
       "    <tr>\n",
       "      <th>2020-01-01 01:00:00</th>\n",
       "      <td>7225.01</td>\n",
       "    </tr>\n",
       "    <tr>\n",
       "      <th>2020-01-01 05:00:00</th>\n",
       "      <td>7209.83</td>\n",
       "    </tr>\n",
       "    <tr>\n",
       "      <th>2020-01-01 09:00:00</th>\n",
       "      <td>7197.20</td>\n",
       "    </tr>\n",
       "  </tbody>\n",
       "</table>\n",
       "</div>"
      ],
      "text/plain": [
       "                       close\n",
       "date                        \n",
       "2020-01-01 01:00:00  7225.01\n",
       "2020-01-01 05:00:00  7209.83\n",
       "2020-01-01 09:00:00  7197.20"
      ]
     },
     "execution_count": 6,
     "metadata": {},
     "output_type": "execute_result"
    }
   ],
   "source": [
    "df.head(3)"
   ]
  },
  {
   "cell_type": "code",
   "execution_count": 7,
   "id": "136945da",
   "metadata": {},
   "outputs": [
    {
     "data": {
      "text/plain": [
       "(6370, 1)"
      ]
     },
     "execution_count": 7,
     "metadata": {},
     "output_type": "execute_result"
    }
   ],
   "source": [
    "df.shape"
   ]
  },
  {
   "cell_type": "code",
   "execution_count": 8,
   "id": "ec74ba4a",
   "metadata": {},
   "outputs": [
    {
     "data": {
      "text/plain": [
       "[<matplotlib.lines.Line2D at 0x1be905a18b0>]"
      ]
     },
     "execution_count": 8,
     "metadata": {},
     "output_type": "execute_result"
    },
    {
     "data": {
      "image/png": "[encoded data removed]",
      "text/plain": [
       "<Figure size 432x288 with 1 Axes>"
      ]
     },
     "metadata": {
      "needs_background": "light"
     },
     "output_type": "display_data"
    }
   ],
   "source": [
    "coef_split = 0.90\n",
    "n_row = int(df.shape[0] * coef_split)\n",
    "train_data,test_data = df[:n_row],df[n_row:]\n",
    "plt.plot(train_data,'b')\n",
    "plt.plot(test_data,'r')"
   ]
  },
  {
   "cell_type": "markdown",
   "id": "2f2e99ce",
   "metadata": {},
   "source": [
    "### 2- LSTM : "
   ]
  },
  {
   "cell_type": "markdown",
   "id": "9e6f43f6",
   "metadata": {},
   "source": [
    "https://machinelearningmastery.com/deep-learning-for-time-series-forecasting/"
   ]
  },
  {
   "cell_type": "markdown",
   "id": "2d1ecadf",
   "metadata": {},
   "source": [
    "https://github.com/jinglescode/time-series-forecasting-pytorch"
   ]
  },
  {
   "cell_type": "markdown",
   "id": "0aacd80c",
   "metadata": {},
   "source": [
    "https://github.com/Ali619/Bitcoin-Price-Prediction-LSTM/blob/master/Bitcoin_Price_Prediction.ipynb (idée)"
   ]
  },
  {
   "cell_type": "code",
   "execution_count": 9,
   "id": "8b099c25",
   "metadata": {},
   "outputs": [],
   "source": [
    "import tensorflow as tf\n",
    "from sklearn.preprocessing import MinMaxScaler\n",
    "from keras.models import Sequential\n",
    "from keras.layers import Dense, LSTM\n",
    "import matplotlib.pyplot as plt"
   ]
  },
  {
   "cell_type": "markdown",
   "id": "7383d674",
   "metadata": {},
   "source": [
    "#### load 'BTCSDT' close price "
   ]
  },
  {
   "cell_type": "code",
   "execution_count": 10,
   "id": "11f26e68",
   "metadata": {},
   "outputs": [
    {
     "data": {
      "text/plain": [
       "(1062, 1)"
      ]
     },
     "execution_count": 10,
     "metadata": {},
     "output_type": "execute_result"
    }
   ],
   "source": [
    "sym,init_date,timeframe = \"BTCUSDT\",\"01 January 2020\",Client.KLINE_INTERVAL_1DAY\n",
    "df = get_data(sym,init_date,timeframe)\n",
    "df.head()\n",
    "df.shape"
   ]
  },
  {
   "cell_type": "markdown",
   "id": "5916b1a8",
   "metadata": {},
   "source": [
    "#### Create the training dataset (np.array, 3dims and saled)"
   ]
  },
  {
   "cell_type": "code",
   "execution_count": 11,
   "id": "97e1de70",
   "metadata": {},
   "outputs": [
    {
     "data": {
      "text/plain": [
       "850"
      ]
     },
     "execution_count": 11,
     "metadata": {},
     "output_type": "execute_result"
    }
   ],
   "source": [
    "data = df.filter(['close'])\n",
    "dataset = data.values\n",
    "training_data_len = math.ceil(len(dataset)*0.8) # We are using %80 of the data for training\n",
    "training_data_len"
   ]
  },
  {
   "cell_type": "code",
   "execution_count": 12,
   "id": "c7bb08c4",
   "metadata": {},
   "outputs": [
    {
     "data": {
      "text/plain": [
       "array([[0.0382753 ],\n",
       "       [0.03452661],\n",
       "       [0.04057276],\n",
       "       ...,\n",
       "       [0.18687899],\n",
       "       [0.18586554],\n",
       "       [0.18748943]])"
      ]
     },
     "execution_count": 12,
     "metadata": {},
     "output_type": "execute_result"
    }
   ],
   "source": [
    "# Scale the data\n",
    "scaler = MinMaxScaler(feature_range=(0,1))\n",
    "scaled_data = scaler.fit_transform(dataset)\n",
    "scaled_data"
   ]
  },
  {
   "cell_type": "markdown",
   "id": "383286bd",
   "metadata": {},
   "source": [
    "We create an array of arrays of the last 60 closes, each elements of them will be inputs."
   ]
  },
  {
   "cell_type": "code",
   "execution_count": 13,
   "id": "b9595168",
   "metadata": {},
   "outputs": [
    {
     "name": "stdout",
     "output_type": "stream",
     "text": [
      "[array([0.0382753 , 0.03452661, 0.04057276, 0.04071863, 0.0407926 ,\n",
      "       0.04715761, 0.05333178, 0.05190812, 0.04811032, 0.05415664,\n",
      "       0.05133467, 0.05396469, 0.05277475, 0.06392917, 0.06411091,\n",
      "       0.06249435, 0.06557554, 0.06561826, 0.06220245, 0.06125626,\n",
      "       0.06274975, 0.06189412, 0.05746468, 0.05801438, 0.05644533,\n",
      "       0.06082024, 0.06548451, 0.07292387, 0.07176517, 0.07513986,\n",
      "       0.07258397, 0.07308967, 0.07224313, 0.07161707, 0.07009903,\n",
      "       0.07671545, 0.07926559, 0.07993087, 0.0812273 , 0.08531972,\n",
      "       0.08053827, 0.08645689, 0.08810501, 0.08656131, 0.08839038,\n",
      "       0.08138147, 0.08158154, 0.07821339, 0.08552633, 0.0764245 ,\n",
      "       0.07646643, 0.07775186, 0.07733433, 0.08188652, 0.07741835,\n",
      "       0.07199331, 0.06353443, 0.06413961, 0.06206231, 0.05936326])]\n",
      "[0.05949510751790768]\n",
      "\n"
     ]
    }
   ],
   "source": [
    "# Create the training dataset\n",
    "train_data = scaled_data[0:training_data_len, :]\n",
    "# Split the data into X_train and y_train data sets\n",
    "X_train = []\n",
    "y_train = []\n",
    "\n",
    "for i in range(60, len(train_data)):\n",
    "    X_train.append(train_data[i-60: i, 0])\n",
    "    y_train.append(train_data[i, 0])"
   ]
  },
  {
   "cell_type": "code",
   "execution_count": 14,
   "id": "f6985ffb",
   "metadata": {},
   "outputs": [],
   "source": [
    "# Convert the X_train and y_train to numpy array\n",
    "X_train, y_train = np.array(X_train), np.array(y_train)"
   ]
  },
  {
   "cell_type": "code",
   "execution_count": 15,
   "id": "132f9e18",
   "metadata": {},
   "outputs": [
    {
     "data": {
      "text/plain": [
       "(790, 60, 1)"
      ]
     },
     "execution_count": 15,
     "metadata": {},
     "output_type": "execute_result"
    }
   ],
   "source": [
    "# Reshape the data because LSTM needs 3 dim\n",
    "X_train = np.reshape(X_train, (X_train.shape[0], X_train.shape[1], 1)) \n",
    "X_train.shape"
   ]
  },
  {
   "cell_type": "code",
   "execution_count": 16,
   "id": "a6fc268e",
   "metadata": {},
   "outputs": [],
   "source": [
    "# Create the testing dataset\n",
    "# Create a new array containing scaled values from index 2083\n",
    "test_data = scaled_data[training_data_len - 60 : , :]\n",
    "\n",
    "#Create the data sets X_test and y_test\n",
    "X_test = []\n",
    "y_test = dataset[training_data_len : , :]\n",
    "for i in range(60, len(test_data)):\n",
    "    X_test.append(test_data[i-60 : i, 0])\n",
    "# Convert the data to a numpy array \n",
    "X_test = np.array(X_test)\n",
    "# Reshape the test data\n",
    "X_test = np.reshape(X_test, (X_test.shape[0], X_test.shape[1], 1))\n"
   ]
  },
  {
   "cell_type": "markdown",
   "id": "52dd5a6e",
   "metadata": {},
   "source": [
    "#### Create the LSTM model:"
   ]
  },
  {
   "cell_type": "code",
   "execution_count": 17,
   "id": "a6214873",
   "metadata": {},
   "outputs": [],
   "source": [
    "# Build LSTM model\n",
    "tf.random.set_seed(42)\n",
    "\n",
    "model_1 = Sequential()\n",
    "model_1.add(LSTM(50, return_sequences=True, input_shape=(X_train.shape[1], 1))) \n",
    "model_1.add(LSTM(50, return_sequences=True))\n",
    "model_1.add(LSTM(50, return_sequences=False))\n",
    "model_1.add(Dense(25))\n",
    "model_1.add(Dense(1))"
   ]
  },
  {
   "cell_type": "code",
   "execution_count": 18,
   "id": "01fae0dd",
   "metadata": {},
   "outputs": [],
   "source": [
    "# Compile the model\n",
    "model_1.compile(optimizer='adam', loss='mse')"
   ]
  },
  {
   "cell_type": "code",
   "execution_count": 19,
   "id": "b0b75d45",
   "metadata": {},
   "outputs": [
    {
     "name": "stdout",
     "output_type": "stream",
     "text": [
      "Epoch 1/5\n",
      "790/790 [==============================] - 39s 45ms/step - loss: 0.0071\n",
      "Epoch 2/5\n",
      "790/790 [==============================] - 36s 45ms/step - loss: 0.0034\n",
      "Epoch 3/5\n",
      "790/790 [==============================] - 24s 30ms/step - loss: 0.0020\n",
      "Epoch 4/5\n",
      "790/790 [==============================] - 35s 45ms/step - loss: 0.0017\n",
      "Epoch 5/5\n",
      "790/790 [==============================] - 36s 46ms/step - loss: 0.0013\n"
     ]
    }
   ],
   "source": [
    "# Train the model\n",
    "callback = tf.keras.callbacks.EarlyStopping(monitor='loss', patience=2)\n",
    "history = model_1.fit(X_train, y_train, batch_size=1, epochs=5)"
   ]
  },
  {
   "cell_type": "code",
   "execution_count": 20,
   "id": "477f1fe2",
   "metadata": {},
   "outputs": [
    {
     "name": "stdout",
     "output_type": "stream",
     "text": [
      "predictions :  [[40952.414]\n",
      " [40049.535]\n",
      " [40029.527]\n",
      " [40259.312]\n",
      " [39951.445]\n",
      " [40786.805]\n",
      " [39647.453]\n",
      " [38404.58 ]\n",
      " [37583.676]\n",
      " [36567.176]\n",
      " [34086.883]\n",
      " [32986.277]\n",
      " [31886.957]\n",
      " [31213.207]\n",
      " [31035.383]\n",
      " [31377.48 ]\n",
      " [32221.889]\n",
      " [32130.889]\n",
      " [32022.992]\n",
      " [31211.25 ]\n",
      " [31282.125]\n",
      " [31108.053]\n",
      " [31026.678]\n",
      " [31390.129]\n",
      " [31188.193]\n",
      " [31132.994]\n",
      " [31106.986]\n",
      " [30941.23 ]\n",
      " [30555.807]\n",
      " [30454.736]\n",
      " [30674.188]\n",
      " [31880.814]\n",
      " [32859.316]\n",
      " [32350.57 ]\n",
      " [31963.523]\n",
      " [31506.83 ]\n",
      " [31326.15 ]\n",
      " [31343.572]\n",
      " [32058.607]\n",
      " [32528.79 ]\n",
      " [32258.428]\n",
      " [31867.568]\n",
      " [31194.975]\n",
      " [30473.352]\n",
      " [29293.732]\n",
      " [26883.736]\n",
      " [25049.697]\n",
      " [24285.936]\n",
      " [23342.072]\n",
      " [22634.912]\n",
      " [21741.592]\n",
      " [21568.082]\n",
      " [21703.086]\n",
      " [21891.36 ]\n",
      " [21750.203]\n",
      " [21881.59 ]\n",
      " [22120.87 ]\n",
      " [22377.818]\n",
      " [22384.287]\n",
      " [22191.123]\n",
      " [21851.629]\n",
      " [21536.658]\n",
      " [21287.809]\n",
      " [20929.04 ]\n",
      " [20634.76 ]\n",
      " [20483.477]\n",
      " [20720.875]\n",
      " [20992.205]\n",
      " [21278.277]\n",
      " [21815.232]\n",
      " [22247.357]\n",
      " [22467.855]\n",
      " [22288.773]\n",
      " [21743.371]\n",
      " [21081.502]\n",
      " [20930.016]\n",
      " [21146.04 ]\n",
      " [21477.672]\n",
      " [21835.389]\n",
      " [21932.357]\n",
      " [22445.947]\n",
      " [23288.363]\n",
      " [23865.783]\n",
      " [24090.02 ]\n",
      " [23957.477]\n",
      " [23697.396]\n",
      " [23568.416]\n",
      " [23104.771]\n",
      " [22681.258]\n",
      " [23034.475]\n",
      " [23859.229]\n",
      " [24486.758]\n",
      " [24728.584]\n",
      " [24621.918]\n",
      " [24449.36 ]\n",
      " [24243.203]\n",
      " [24055.43 ]\n",
      " [23884.635]\n",
      " [24035.168]\n",
      " [24114.7  ]\n",
      " [24202.443]\n",
      " [24492.59 ]\n",
      " [24502.258]\n",
      " [24693.332]\n",
      " [24882.963]\n",
      " [25167.06 ]\n",
      " [25392.162]\n",
      " [25458.2  ]\n",
      " [25373.713]\n",
      " [25195.738]\n",
      " [24879.656]\n",
      " [24593.99 ]\n",
      " [23594.049]\n",
      " [22843.152]\n",
      " [22608.576]\n",
      " [22582.348]\n",
      " [22648.16 ]\n",
      " [22645.648]\n",
      " [22667.148]\n",
      " [22235.82 ]\n",
      " [21719.924]\n",
      " [21216.8  ]\n",
      " [21131.387]\n",
      " [21071.648]\n",
      " [21088.953]\n",
      " [21147.162]\n",
      " [21129.969]\n",
      " [21041.338]\n",
      " [21009.66 ]\n",
      " [20944.277]\n",
      " [20557.062]\n",
      " [20340.346]\n",
      " [20286.516]\n",
      " [20959.188]\n",
      " [21778.273]\n",
      " [22381.367]\n",
      " [22871.453]\n",
      " [22388.707]\n",
      " [21764.2  ]\n",
      " [21200.074]\n",
      " [20904.65 ]\n",
      " [20912.406]\n",
      " [20789.715]\n",
      " [20676.994]\n",
      " [20395.799]\n",
      " [20007.908]\n",
      " [20008.777]\n",
      " [20126.621]\n",
      " [20103.852]\n",
      " [19985.502]\n",
      " [20006.746]\n",
      " [20031.615]\n",
      " [20144.252]\n",
      " [20309.074]\n",
      " [20378.215]\n",
      " [20347.104]\n",
      " [20212.768]\n",
      " [20273.29 ]\n",
      " [20625.219]\n",
      " [20902.71 ]\n",
      " [20973.621]\n",
      " [20806.13 ]\n",
      " [20584.166]\n",
      " [20440.996]\n",
      " [20283.578]\n",
      " [20147.467]\n",
      " [20096.178]\n",
      " [20161.797]\n",
      " [20180.23 ]\n",
      " [20129.736]\n",
      " [20131.281]\n",
      " [20246.506]\n",
      " [20291.979]\n",
      " [20222.154]\n",
      " [20109.418]\n",
      " [20064.258]\n",
      " [20076.195]\n",
      " [20218.797]\n",
      " [20283.998]\n",
      " [20529.166]\n",
      " [20992.795]\n",
      " [21215.973]\n",
      " [21354.832]\n",
      " [21503.62 ]\n",
      " [21553.152]\n",
      " [21507.54 ]\n",
      " [21451.8  ]\n",
      " [21312.787]\n",
      " [21214.693]\n",
      " [21485.127]\n",
      " [21852.156]\n",
      " [21972.904]\n",
      " [21847.58 ]\n",
      " [21017.111]\n",
      " [19420.748]\n",
      " [18640.71 ]\n",
      " [18299.582]\n",
      " [18106.156]\n",
      " [17851.523]\n",
      " [17711.35 ]\n",
      " [17733.775]\n",
      " [17726.271]\n",
      " [17693.723]\n",
      " [17656.195]\n",
      " [17623.188]\n",
      " [17475.06 ]\n",
      " [17176.758]\n",
      " [17040.969]\n",
      " [17130.941]\n",
      " [17272.467]\n",
      " [17349.205]\n",
      " [17348.604]]\n"
     ]
    }
   ],
   "source": [
    "# Get the model_1 predicted price values \n",
    "predictions_1 = model_1.predict(X_test)\n",
    "predictions_1 = scaler.inverse_transform(predictions_1)\n",
    "print('predictions : ',predictions_1)"
   ]
  },
  {
   "cell_type": "code",
   "execution_count": 21,
   "id": "53392a84",
   "metadata": {},
   "outputs": [
    {
     "data": {
      "text/plain": [
       "1370.5907075471698"
      ]
     },
     "execution_count": 21,
     "metadata": {},
     "output_type": "execute_result"
    }
   ],
   "source": [
    "# Get the root mean squared error (RMSE) for model_1\n",
    "rmse = np.sqrt(np.mean(predictions_1 - y_test)**2)\n",
    "rmse"
   ]
  },
  {
   "cell_type": "code",
   "execution_count": 22,
   "id": "d1fd1776",
   "metadata": {},
   "outputs": [
    {
     "data": {
      "text/plain": [
       "Text(0.5, 0, 'epochs')"
      ]
     },
     "execution_count": 22,
     "metadata": {},
     "output_type": "execute_result"
    },
    {
     "data": {
      "image/png": "[encoded data removed]",
      "text/plain": [
       "<Figure size 432x288 with 1 Axes>"
      ]
     },
     "metadata": {
      "needs_background": "light"
     },
     "output_type": "display_data"
    }
   ],
   "source": [
    "# Let's plot the history of model_1 and see what's going on\n",
    "historyForPlot = pd.DataFrame(history.history)\n",
    "historyForPlot.index += 1 # we plus 1 to the number of indexing so our epochs Plot picture will be counting from 1 not 0.\n",
    "historyForPlot.plot()\n",
    "plt.ylabel(\"loss\")\n",
    "plt.xlabel(\"epochs\")"
   ]
  },
  {
   "cell_type": "code",
   "execution_count": 43,
   "id": "8b7a3f86",
   "metadata": {},
   "outputs": [
    {
     "name": "stderr",
     "output_type": "stream",
     "text": [
      "C:\\Users\\thoma\\AppData\\Local\\Temp/ipykernel_5008/1171132579.py:6: SettingWithCopyWarning: \n",
      "A value is trying to be set on a copy of a slice from a DataFrame.\n",
      "Try using .loc[row_indexer,col_indexer] = value instead\n",
      "\n",
      "See the caveats in the documentation: https://pandas.pydata.org/pandas-docs/stable/user_guide/indexing.html#returning-a-view-versus-a-copy\n",
      "  valid_1['Predictions'] = predictions_1\n"
     ]
    },
    {
     "data": {
      "text/plain": [
       "<matplotlib.legend.Legend at 0x1bea5d8c790>"
      ]
     },
     "execution_count": 43,
     "metadata": {},
     "output_type": "execute_result"
    },
    {
     "data": {
      "image/png": "[encoded data removed]",
      "text/plain": [
       "<Figure size 1008x720 with 1 Axes>"
      ]
     },
     "metadata": {
      "needs_background": "light"
     },
     "output_type": "display_data"
    }
   ],
   "source": [
    "# Plot the data\n",
    "train = data[:training_data_len]\n",
    "\n",
    "#data for model_1\n",
    "valid_1 = data[training_data_len:]\n",
    "valid_1['Predictions'] = predictions_1\n",
    "\n",
    "\n",
    "# Visualized the data :\n",
    "#model_1\n",
    "plt.figure(figsize=(14, 10))\n",
    "plt.subplot(2, 1, 1)\n",
    "plt.title('Model_1 with 5 epochs')\n",
    "plt.xlabel('Data', fontsize=18)\n",
    "plt.ylabel('Close Price USDT', fontsize=18)\n",
    "plt.plot(train)\n",
    "plt.plot(valid_1[['close', 'Predictions']])\n",
    "\n",
    "plt.legend(['Train', 'Valid', 'Predictions'], loc='upper left')"
   ]
  },
  {
   "cell_type": "code",
   "execution_count": 13,
   "id": "f7283753",
   "metadata": {},
   "outputs": [],
   "source": [
    "def signal(actual_price,pred):\n",
    "    if(pred> actual_price): return 1\n",
    "    else: return -1"
   ]
  },
  {
   "cell_type": "code",
   "execution_count": 14,
   "id": "1a7363ed",
   "metadata": {},
   "outputs": [
    {
     "data": {
      "text/plain": [
       "1"
      ]
     },
     "execution_count": 14,
     "metadata": {},
     "output_type": "execute_result"
    }
   ],
   "source": [
    "signal(1,2)"
   ]
  },
  {
   "cell_type": "code",
   "execution_count": 30,
   "id": "0b5e6f5d",
   "metadata": {},
   "outputs": [],
   "source": [
    "def pred_on_k_days(fitted_model,data,k):\n",
    "    predictions = []\n",
    "    RSME=0\n",
    "    print(data.index[-k-1])\n",
    "    print('actual_price : ',data['close'][-k-1],'\\n')\n",
    "    for i in range(k):\n",
    "        if(i==0):\n",
    "            last_60_days = data[-60:].values\n",
    "        else:\n",
    "            last_60_days = data[-(60+i):-i].values\n",
    "        last_60_days_scaled = scaler.fit_transform(last_60_days)\n",
    "        new_X_test = []\n",
    "        new_X_test.append(last_60_days_scaled)\n",
    "        new_X_test = np.array(new_X_test)\n",
    "        new_X_test = np.reshape(new_X_test, (new_X_test.shape[0], new_X_test.shape[1], 1))\n",
    "        pred_price = fitted_model.predict(new_X_test)\n",
    "        pred_price = np.array(scaler.inverse_transform(pred_price))\n",
    "        np.append(last_60_days,pred_price)\n",
    "        print(data.index[-k+i])\n",
    "        print('pred : ',pred_price[0][0])\n",
    "        print('actual_price : ',data['close'][-k+i])\n",
    "        print()\n",
    "        RSME+= (pred_price[0][0]-data['close'][-k+i])**2\n",
    "        \n",
    "    RSME = math.sqrt((1/k*RSME))\n",
    "    print(RSME)\n",
    "    return last_60_days[-k:]\n",
    "    \n",
    "    "
   ]
  },
  {
   "cell_type": "code",
   "execution_count": 31,
   "id": "4c1d0a3b",
   "metadata": {},
   "outputs": [
    {
     "name": "stdout",
     "output_type": "stream",
     "text": [
      "2022-11-24 01:00:00\n",
      "actual_price :  16598.95 \n",
      "\n",
      "2022-11-25 01:00:00\n",
      "pred :  16610.25\n",
      "actual_price :  16522.14\n",
      "\n",
      "2022-11-26 01:00:00\n",
      "pred :  16601.764\n",
      "actual_price :  16458.57\n",
      "\n",
      "2022-11-27 01:00:00\n",
      "pred :  16583.975\n",
      "actual_price :  16560.43\n",
      "\n",
      "98.0172576567798\n"
     ]
    }
   ],
   "source": [
    "pred3 = pred_on_k_days(model_1,data,3)"
   ]
  },
  {
   "cell_type": "markdown",
   "id": "75bb75c2",
   "metadata": {},
   "source": [
    "#### Tuning the hyperparameters :"
   ]
  },
  {
   "cell_type": "code",
   "execution_count": 32,
   "id": "590725cd",
   "metadata": {},
   "outputs": [],
   "source": [
    "from keras_tuner.tuners import RandomSearch"
   ]
  },
  {
   "cell_type": "code",
   "execution_count": 79,
   "id": "38ea9eee",
   "metadata": {},
   "outputs": [],
   "source": [
    "def model_1(hp):\n",
    "    model_1 = Sequential()\n",
    "    model_1.add(LSTM(50, return_sequences=True, input_shape=(X_train.shape[1], 1))) \n",
    "    model_1.add(LSTM(50, return_sequences=False))\n",
    "    model_1.add(Dense(25))\n",
    "    model_1.add(Dense(1))\n",
    "    model_1.compile(loss='mse')\n",
    "    return model_1"
   ]
  },
  {
   "cell_type": "code",
   "execution_count": 80,
   "id": "a6e3561b",
   "metadata": {},
   "outputs": [],
   "source": [
    "tuner = RandomSearch(model_1,\n",
    "        objective='val_loss',  #loss\n",
    "        max_trials=2,\n",
    "        overwrite=True,\n",
    "        executions_per_trial=1)"
   ]
  },
  {
   "cell_type": "code",
   "execution_count": 81,
   "id": "4ff5a65e",
   "metadata": {},
   "outputs": [
    {
     "name": "stdout",
     "output_type": "stream",
     "text": [
      "Trial 1 Complete [00h 00m 13s]\n",
      "val_loss: 536242912.0\n",
      "\n",
      "Best val_loss So Far: 536242912.0\n",
      "Total elapsed time: 00h 00m 13s\n",
      "INFO:tensorflow:Oracle triggered exit\n"
     ]
    }
   ],
   "source": [
    "tuner.search(\n",
    "        x=X_train,\n",
    "        y= y_train,\n",
    "        epochs=10,\n",
    "        batch_size=128,\n",
    "        validation_data=(X_test,y_test)\n",
    "        \n",
    ")"
   ]
  },
  {
   "cell_type": "code",
   "execution_count": 82,
   "id": "36fbb6b6",
   "metadata": {},
   "outputs": [
    {
     "name": "stdout",
     "output_type": "stream",
     "text": [
      "WARNING:tensorflow:Detecting that an object or model or tf.train.Checkpoint is being deleted with unrestored values. See the following logs for the specific values in question. To silence these warnings, use `status.expect_partial()`. See https://www.tensorflow.org/api_docs/python/tf/train/Checkpoint#restorefor details about the status object returned by the restore function.\n",
      "WARNING:tensorflow:Value in checkpoint could not be found in the restored object: (root).optimizer.iter\n",
      "WARNING:tensorflow:Value in checkpoint could not be found in the restored object: (root).optimizer.decay\n",
      "WARNING:tensorflow:Value in checkpoint could not be found in the restored object: (root).optimizer.learning_rate\n",
      "WARNING:tensorflow:Value in checkpoint could not be found in the restored object: (root).optimizer.momentum\n",
      "WARNING:tensorflow:Value in checkpoint could not be found in the restored object: (root).optimizer.rho\n"
     ]
    }
   ],
   "source": [
    "best_model = tuner.get_best_models(num_models=1)[0]\n",
    "best_model = tuner.hypermodel.build(best_model)"
   ]
  },
  {
   "cell_type": "code",
   "execution_count": 83,
   "id": "1f2f8d73",
   "metadata": {},
   "outputs": [],
   "source": [
    "predictions_best_model = best_model.predict(X_test)\n",
    "predictions_best_model  = scaler.inverse_transform(predictions_best_model )"
   ]
  },
  {
   "cell_type": "code",
   "execution_count": 84,
   "id": "3fdbfdb7",
   "metadata": {},
   "outputs": [
    {
     "name": "stderr",
     "output_type": "stream",
     "text": [
      "C:\\Users\\thoma\\AppData\\Local\\Temp/ipykernel_5008/2274235045.py:6: SettingWithCopyWarning: \n",
      "A value is trying to be set on a copy of a slice from a DataFrame.\n",
      "Try using .loc[row_indexer,col_indexer] = value instead\n",
      "\n",
      "See the caveats in the documentation: https://pandas.pydata.org/pandas-docs/stable/user_guide/indexing.html#returning-a-view-versus-a-copy\n",
      "  valid['Predictions'] = predictions_best_model\n"
     ]
    },
    {
     "data": {
      "text/plain": [
       "<matplotlib.legend.Legend at 0x1beae507af0>"
      ]
     },
     "execution_count": 84,
     "metadata": {},
     "output_type": "execute_result"
    },
    {
     "data": {
      "image/png": "[encoded data removed]",
      "text/plain": [
       "<Figure size 1008x720 with 1 Axes>"
      ]
     },
     "metadata": {
      "needs_background": "light"
     },
     "output_type": "display_data"
    }
   ],
   "source": [
    "# Plot the data\n",
    "train = data[:training_data_len]\n",
    "\n",
    "#data for model_1\n",
    "valid = data[training_data_len:]\n",
    "valid['Predictions'] = predictions_best_model\n",
    "\n",
    "\n",
    "# Visualized the data :\n",
    "#model_1\n",
    "plt.figure(figsize=(14, 10))\n",
    "plt.subplot(2, 1, 1)\n",
    "plt.title('Best Model with 10 epochs')\n",
    "plt.xlabel('Data', fontsize=18)\n",
    "plt.ylabel('Close Price USDT', fontsize=18)\n",
    "plt.plot(train)\n",
    "plt.plot(valid[['close', 'Predictions']])\n",
    "\n",
    "plt.legend(['Train', 'Valid', 'Predictions'], loc='upper left')"
   ]
  },
  {
   "cell_type": "code",
   "execution_count": 59,
   "id": "6fdad1c5",
   "metadata": {},
   "outputs": [
    {
     "data": {
      "text/html": [
       "<div>\n",
       "<style scoped>\n",
       "    .dataframe tbody tr th:only-of-type {\n",
       "        vertical-align: middle;\n",
       "    }\n",
       "\n",
       "    .dataframe tbody tr th {\n",
       "        vertical-align: top;\n",
       "    }\n",
       "\n",
       "    .dataframe thead th {\n",
       "        text-align: right;\n",
       "    }\n",
       "</style>\n",
       "<table border=\"1\" class=\"dataframe\">\n",
       "  <thead>\n",
       "    <tr style=\"text-align: right;\">\n",
       "      <th></th>\n",
       "      <th>close</th>\n",
       "      <th>Predictions</th>\n",
       "    </tr>\n",
       "    <tr>\n",
       "      <th>date</th>\n",
       "      <th></th>\n",
       "      <th></th>\n",
       "    </tr>\n",
       "  </thead>\n",
       "  <tbody>\n",
       "    <tr>\n",
       "      <th>2022-04-30 02:00:00</th>\n",
       "      <td>37630.80</td>\n",
       "      <td>18902.720703</td>\n",
       "    </tr>\n",
       "    <tr>\n",
       "      <th>2022-05-01 02:00:00</th>\n",
       "      <td>38468.35</td>\n",
       "      <td>18851.105469</td>\n",
       "    </tr>\n",
       "    <tr>\n",
       "      <th>2022-05-02 02:00:00</th>\n",
       "      <td>38525.16</td>\n",
       "      <td>18835.437500</td>\n",
       "    </tr>\n",
       "    <tr>\n",
       "      <th>2022-05-03 02:00:00</th>\n",
       "      <td>37728.95</td>\n",
       "      <td>18835.919922</td>\n",
       "    </tr>\n",
       "    <tr>\n",
       "      <th>2022-05-04 02:00:00</th>\n",
       "      <td>39690.00</td>\n",
       "      <td>18815.185547</td>\n",
       "    </tr>\n",
       "    <tr>\n",
       "      <th>...</th>\n",
       "      <td>...</td>\n",
       "      <td>...</td>\n",
       "    </tr>\n",
       "    <tr>\n",
       "      <th>2022-11-23 01:00:00</th>\n",
       "      <td>16603.11</td>\n",
       "      <td>16737.550781</td>\n",
       "    </tr>\n",
       "    <tr>\n",
       "      <th>2022-11-24 01:00:00</th>\n",
       "      <td>16598.95</td>\n",
       "      <td>16743.517578</td>\n",
       "    </tr>\n",
       "    <tr>\n",
       "      <th>2022-11-25 01:00:00</th>\n",
       "      <td>16522.14</td>\n",
       "      <td>16752.724609</td>\n",
       "    </tr>\n",
       "    <tr>\n",
       "      <th>2022-11-26 01:00:00</th>\n",
       "      <td>16458.57</td>\n",
       "      <td>16758.132812</td>\n",
       "    </tr>\n",
       "    <tr>\n",
       "      <th>2022-11-27 01:00:00</th>\n",
       "      <td>16560.43</td>\n",
       "      <td>16759.000000</td>\n",
       "    </tr>\n",
       "  </tbody>\n",
       "</table>\n",
       "<p>212 rows × 2 columns</p>\n",
       "</div>"
      ],
      "text/plain": [
       "                        close   Predictions\n",
       "date                                       \n",
       "2022-04-30 02:00:00  37630.80  18902.720703\n",
       "2022-05-01 02:00:00  38468.35  18851.105469\n",
       "2022-05-02 02:00:00  38525.16  18835.437500\n",
       "2022-05-03 02:00:00  37728.95  18835.919922\n",
       "2022-05-04 02:00:00  39690.00  18815.185547\n",
       "...                       ...           ...\n",
       "2022-11-23 01:00:00  16603.11  16737.550781\n",
       "2022-11-24 01:00:00  16598.95  16743.517578\n",
       "2022-11-25 01:00:00  16522.14  16752.724609\n",
       "2022-11-26 01:00:00  16458.57  16758.132812\n",
       "2022-11-27 01:00:00  16560.43  16759.000000\n",
       "\n",
       "[212 rows x 2 columns]"
      ]
     },
     "execution_count": 59,
     "metadata": {},
     "output_type": "execute_result"
    }
   ],
   "source": [
    "valid"
   ]
  },
  {
   "cell_type": "markdown",
   "id": "1093f219",
   "metadata": {},
   "source": [
    "Idées:"
   ]
  },
  {
   "cell_type": "markdown",
   "id": "e3accea9",
   "metadata": {},
   "source": [
    "-faire une pred sur 3 jours\n"
   ]
  },
  {
   "cell_type": "markdown",
   "id": "860c46a5",
   "metadata": {},
   "source": [
    "-ajouter le volume et ou open etc\n"
   ]
  },
  {
   "cell_type": "markdown",
   "id": "f8d4e989",
   "metadata": {},
   "source": [
    "-changer le nb de layers, inputs(60?) etc\n"
   ]
  },
  {
   "cell_type": "markdown",
   "id": "388af620",
   "metadata": {},
   "source": [
    "-tester sur l'ETHUSDT"
   ]
  }
 ],
 "metadata": {
  "kernelspec": {
   "display_name": "Python 3 (ipykernel)",
   "language": "python",
   "name": "python3"
  },
  "language_info": {
   "codemirror_mode": {
    "name": "ipython",
    "version": 3
   },
   "file_extension": ".py",
   "mimetype": "text/x-python",
   "name": "python",
   "nbconvert_exporter": "python",
   "pygments_lexer": "ipython3",
   "version": "3.9.7"
  }
 },
 "nbformat": 4,
 "nbformat_minor": 5
}
